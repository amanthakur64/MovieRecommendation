{
  "cells": [
    {
      "cell_type": "markdown",
      "metadata": {
        "id": "1Z2Gwhl1W3DR"
      },
      "source": [
        "#MOVIE RECOMMENDATION SYSTEM\n"
      ]
    },
    {
      "cell_type": "markdown",
      "metadata": {
        "id": "5FqBK74MW_i8"
      },
      "source": [
        "###Importing the libraries"
      ]
    },
    {
      "cell_type": "code",
      "execution_count": 2,
      "metadata": {
        "id": "QoMTN3qqWypo"
      },
      "outputs": [],
      "source": [
        "import numpy as np\n",
        "import pandas as pd\n",
        "import matplotlib.pyplot as plt\n",
        "from scipy.sparse import csr_matrix\n",
        "from sklearn.neighbors import NearestNeighbors"
      ]
    },
    {
      "cell_type": "markdown",
      "metadata": {
        "id": "WL5YTy_DXU0u"
      },
      "source": [
        "###Loading the dataset"
      ]
    },
    {
      "cell_type": "code",
      "execution_count": 3,
      "metadata": {
        "id": "Rf_J6-gYXUX4"
      },
      "outputs": [],
      "source": [
        "links=pd.read_csv('links.csv')\n",
        "movies=pd.read_csv('movies.csv')\n",
        "ratings=pd.read_csv('ratings.csv')\n",
        "tags=pd.read_csv('tags.csv')"
      ]
    },
    {
      "cell_type": "code",
      "execution_count": 4,
      "metadata": {
        "id": "tdqgUxf66am_"
      },
      "outputs": [
        {
          "data": {
            "text/html": [
              "<div>\n",
              "<style scoped>\n",
              "    .dataframe tbody tr th:only-of-type {\n",
              "        vertical-align: middle;\n",
              "    }\n",
              "\n",
              "    .dataframe tbody tr th {\n",
              "        vertical-align: top;\n",
              "    }\n",
              "\n",
              "    .dataframe thead th {\n",
              "        text-align: right;\n",
              "    }\n",
              "</style>\n",
              "<table border=\"1\" class=\"dataframe\">\n",
              "  <thead>\n",
              "    <tr style=\"text-align: right;\">\n",
              "      <th></th>\n",
              "      <th>movieId</th>\n",
              "      <th>title</th>\n",
              "      <th>genres</th>\n",
              "    </tr>\n",
              "  </thead>\n",
              "  <tbody>\n",
              "    <tr>\n",
              "      <th>0</th>\n",
              "      <td>1</td>\n",
              "      <td>Toy Story (1995)</td>\n",
              "      <td>Adventure|Animation|Children|Comedy|Fantasy</td>\n",
              "    </tr>\n",
              "    <tr>\n",
              "      <th>1</th>\n",
              "      <td>2</td>\n",
              "      <td>Jumanji (1995)</td>\n",
              "      <td>Adventure|Children|Fantasy</td>\n",
              "    </tr>\n",
              "    <tr>\n",
              "      <th>2</th>\n",
              "      <td>3</td>\n",
              "      <td>Grumpier Old Men (1995)</td>\n",
              "      <td>Comedy|Romance</td>\n",
              "    </tr>\n",
              "    <tr>\n",
              "      <th>3</th>\n",
              "      <td>4</td>\n",
              "      <td>Waiting to Exhale (1995)</td>\n",
              "      <td>Comedy|Drama|Romance</td>\n",
              "    </tr>\n",
              "    <tr>\n",
              "      <th>4</th>\n",
              "      <td>5</td>\n",
              "      <td>Father of the Bride Part II (1995)</td>\n",
              "      <td>Comedy</td>\n",
              "    </tr>\n",
              "  </tbody>\n",
              "</table>\n",
              "</div>"
            ],
            "text/plain": [
              "   movieId                               title  \\\n",
              "0        1                    Toy Story (1995)   \n",
              "1        2                      Jumanji (1995)   \n",
              "2        3             Grumpier Old Men (1995)   \n",
              "3        4            Waiting to Exhale (1995)   \n",
              "4        5  Father of the Bride Part II (1995)   \n",
              "\n",
              "                                        genres  \n",
              "0  Adventure|Animation|Children|Comedy|Fantasy  \n",
              "1                   Adventure|Children|Fantasy  \n",
              "2                               Comedy|Romance  \n",
              "3                         Comedy|Drama|Romance  \n",
              "4                                       Comedy  "
            ]
          },
          "execution_count": 4,
          "metadata": {},
          "output_type": "execute_result"
        }
      ],
      "source": [
        "movies.head()"
      ]
    },
    {
      "cell_type": "code",
      "execution_count": 5,
      "metadata": {
        "id": "IHSMLgtS6cGe"
      },
      "outputs": [
        {
          "data": {
            "text/html": [
              "<div>\n",
              "<style scoped>\n",
              "    .dataframe tbody tr th:only-of-type {\n",
              "        vertical-align: middle;\n",
              "    }\n",
              "\n",
              "    .dataframe tbody tr th {\n",
              "        vertical-align: top;\n",
              "    }\n",
              "\n",
              "    .dataframe thead th {\n",
              "        text-align: right;\n",
              "    }\n",
              "</style>\n",
              "<table border=\"1\" class=\"dataframe\">\n",
              "  <thead>\n",
              "    <tr style=\"text-align: right;\">\n",
              "      <th></th>\n",
              "      <th>userId</th>\n",
              "      <th>movieId</th>\n",
              "      <th>rating</th>\n",
              "      <th>timestamp</th>\n",
              "    </tr>\n",
              "  </thead>\n",
              "  <tbody>\n",
              "    <tr>\n",
              "      <th>0</th>\n",
              "      <td>1</td>\n",
              "      <td>1</td>\n",
              "      <td>4.0</td>\n",
              "      <td>964982703</td>\n",
              "    </tr>\n",
              "    <tr>\n",
              "      <th>1</th>\n",
              "      <td>1</td>\n",
              "      <td>3</td>\n",
              "      <td>4.0</td>\n",
              "      <td>964981247</td>\n",
              "    </tr>\n",
              "    <tr>\n",
              "      <th>2</th>\n",
              "      <td>1</td>\n",
              "      <td>6</td>\n",
              "      <td>4.0</td>\n",
              "      <td>964982224</td>\n",
              "    </tr>\n",
              "    <tr>\n",
              "      <th>3</th>\n",
              "      <td>1</td>\n",
              "      <td>47</td>\n",
              "      <td>5.0</td>\n",
              "      <td>964983815</td>\n",
              "    </tr>\n",
              "    <tr>\n",
              "      <th>4</th>\n",
              "      <td>1</td>\n",
              "      <td>50</td>\n",
              "      <td>5.0</td>\n",
              "      <td>964982931</td>\n",
              "    </tr>\n",
              "  </tbody>\n",
              "</table>\n",
              "</div>"
            ],
            "text/plain": [
              "   userId  movieId  rating  timestamp\n",
              "0       1        1     4.0  964982703\n",
              "1       1        3     4.0  964981247\n",
              "2       1        6     4.0  964982224\n",
              "3       1       47     5.0  964983815\n",
              "4       1       50     5.0  964982931"
            ]
          },
          "execution_count": 5,
          "metadata": {},
          "output_type": "execute_result"
        }
      ],
      "source": [
        "ratings.head()"
      ]
    },
    {
      "cell_type": "code",
      "execution_count": 6,
      "metadata": {
        "id": "L3xrUYIh6eUd"
      },
      "outputs": [
        {
          "data": {
            "text/html": [
              "<div>\n",
              "<style scoped>\n",
              "    .dataframe tbody tr th:only-of-type {\n",
              "        vertical-align: middle;\n",
              "    }\n",
              "\n",
              "    .dataframe tbody tr th {\n",
              "        vertical-align: top;\n",
              "    }\n",
              "\n",
              "    .dataframe thead th {\n",
              "        text-align: right;\n",
              "    }\n",
              "</style>\n",
              "<table border=\"1\" class=\"dataframe\">\n",
              "  <thead>\n",
              "    <tr style=\"text-align: right;\">\n",
              "      <th></th>\n",
              "      <th>movieId</th>\n",
              "      <th>imdbId</th>\n",
              "      <th>tmdbId</th>\n",
              "    </tr>\n",
              "  </thead>\n",
              "  <tbody>\n",
              "    <tr>\n",
              "      <th>0</th>\n",
              "      <td>1</td>\n",
              "      <td>114709</td>\n",
              "      <td>862.0</td>\n",
              "    </tr>\n",
              "    <tr>\n",
              "      <th>1</th>\n",
              "      <td>2</td>\n",
              "      <td>113497</td>\n",
              "      <td>8844.0</td>\n",
              "    </tr>\n",
              "    <tr>\n",
              "      <th>2</th>\n",
              "      <td>3</td>\n",
              "      <td>113228</td>\n",
              "      <td>15602.0</td>\n",
              "    </tr>\n",
              "    <tr>\n",
              "      <th>3</th>\n",
              "      <td>4</td>\n",
              "      <td>114885</td>\n",
              "      <td>31357.0</td>\n",
              "    </tr>\n",
              "    <tr>\n",
              "      <th>4</th>\n",
              "      <td>5</td>\n",
              "      <td>113041</td>\n",
              "      <td>11862.0</td>\n",
              "    </tr>\n",
              "  </tbody>\n",
              "</table>\n",
              "</div>"
            ],
            "text/plain": [
              "   movieId  imdbId   tmdbId\n",
              "0        1  114709    862.0\n",
              "1        2  113497   8844.0\n",
              "2        3  113228  15602.0\n",
              "3        4  114885  31357.0\n",
              "4        5  113041  11862.0"
            ]
          },
          "execution_count": 6,
          "metadata": {},
          "output_type": "execute_result"
        }
      ],
      "source": [
        "links.head()"
      ]
    },
    {
      "cell_type": "code",
      "execution_count": 7,
      "metadata": {
        "id": "cafn8rlq6glm"
      },
      "outputs": [
        {
          "data": {
            "text/html": [
              "<div>\n",
              "<style scoped>\n",
              "    .dataframe tbody tr th:only-of-type {\n",
              "        vertical-align: middle;\n",
              "    }\n",
              "\n",
              "    .dataframe tbody tr th {\n",
              "        vertical-align: top;\n",
              "    }\n",
              "\n",
              "    .dataframe thead th {\n",
              "        text-align: right;\n",
              "    }\n",
              "</style>\n",
              "<table border=\"1\" class=\"dataframe\">\n",
              "  <thead>\n",
              "    <tr style=\"text-align: right;\">\n",
              "      <th></th>\n",
              "      <th>userId</th>\n",
              "      <th>movieId</th>\n",
              "      <th>tag</th>\n",
              "      <th>timestamp</th>\n",
              "    </tr>\n",
              "  </thead>\n",
              "  <tbody>\n",
              "    <tr>\n",
              "      <th>0</th>\n",
              "      <td>2</td>\n",
              "      <td>60756</td>\n",
              "      <td>funny</td>\n",
              "      <td>1445714994</td>\n",
              "    </tr>\n",
              "    <tr>\n",
              "      <th>1</th>\n",
              "      <td>2</td>\n",
              "      <td>60756</td>\n",
              "      <td>Highly quotable</td>\n",
              "      <td>1445714996</td>\n",
              "    </tr>\n",
              "    <tr>\n",
              "      <th>2</th>\n",
              "      <td>2</td>\n",
              "      <td>60756</td>\n",
              "      <td>will ferrell</td>\n",
              "      <td>1445714992</td>\n",
              "    </tr>\n",
              "    <tr>\n",
              "      <th>3</th>\n",
              "      <td>2</td>\n",
              "      <td>89774</td>\n",
              "      <td>Boxing story</td>\n",
              "      <td>1445715207</td>\n",
              "    </tr>\n",
              "    <tr>\n",
              "      <th>4</th>\n",
              "      <td>2</td>\n",
              "      <td>89774</td>\n",
              "      <td>MMA</td>\n",
              "      <td>1445715200</td>\n",
              "    </tr>\n",
              "  </tbody>\n",
              "</table>\n",
              "</div>"
            ],
            "text/plain": [
              "   userId  movieId              tag   timestamp\n",
              "0       2    60756            funny  1445714994\n",
              "1       2    60756  Highly quotable  1445714996\n",
              "2       2    60756     will ferrell  1445714992\n",
              "3       2    89774     Boxing story  1445715207\n",
              "4       2    89774              MMA  1445715200"
            ]
          },
          "execution_count": 7,
          "metadata": {},
          "output_type": "execute_result"
        }
      ],
      "source": [
        "tags.head()"
      ]
    },
    {
      "cell_type": "code",
      "execution_count": 8,
      "metadata": {
        "id": "BI96lgWLJmqX"
      },
      "outputs": [
        {
          "data": {
            "text/plain": [
              "((9742, 3), (3683, 4), (100836, 4), (9742, 3))"
            ]
          },
          "execution_count": 8,
          "metadata": {},
          "output_type": "execute_result"
        }
      ],
      "source": [
        "movies.shape,tags.shape,ratings.shape,links.shape"
      ]
    },
    {
      "cell_type": "markdown",
      "metadata": {
        "id": "3yGNXakeoHJo"
      },
      "source": [
        "###Creating a dataset with movie titles and its corresponding ratings"
      ]
    },
    {
      "cell_type": "code",
      "execution_count": 9,
      "metadata": {
        "id": "YtDTvy_UoNO1"
      },
      "outputs": [
        {
          "data": {
            "text/html": [
              "<div>\n",
              "<style scoped>\n",
              "    .dataframe tbody tr th:only-of-type {\n",
              "        vertical-align: middle;\n",
              "    }\n",
              "\n",
              "    .dataframe tbody tr th {\n",
              "        vertical-align: top;\n",
              "    }\n",
              "\n",
              "    .dataframe thead th {\n",
              "        text-align: right;\n",
              "    }\n",
              "</style>\n",
              "<table border=\"1\" class=\"dataframe\">\n",
              "  <thead>\n",
              "    <tr style=\"text-align: right;\">\n",
              "      <th></th>\n",
              "      <th>movieId</th>\n",
              "      <th>title</th>\n",
              "    </tr>\n",
              "  </thead>\n",
              "  <tbody>\n",
              "    <tr>\n",
              "      <th>0</th>\n",
              "      <td>1</td>\n",
              "      <td>Toy Story (1995)</td>\n",
              "    </tr>\n",
              "    <tr>\n",
              "      <th>1</th>\n",
              "      <td>2</td>\n",
              "      <td>Jumanji (1995)</td>\n",
              "    </tr>\n",
              "    <tr>\n",
              "      <th>2</th>\n",
              "      <td>3</td>\n",
              "      <td>Grumpier Old Men (1995)</td>\n",
              "    </tr>\n",
              "    <tr>\n",
              "      <th>3</th>\n",
              "      <td>4</td>\n",
              "      <td>Waiting to Exhale (1995)</td>\n",
              "    </tr>\n",
              "    <tr>\n",
              "      <th>4</th>\n",
              "      <td>5</td>\n",
              "      <td>Father of the Bride Part II (1995)</td>\n",
              "    </tr>\n",
              "    <tr>\n",
              "      <th>...</th>\n",
              "      <td>...</td>\n",
              "      <td>...</td>\n",
              "    </tr>\n",
              "    <tr>\n",
              "      <th>9737</th>\n",
              "      <td>193581</td>\n",
              "      <td>Black Butler: Book of the Atlantic (2017)</td>\n",
              "    </tr>\n",
              "    <tr>\n",
              "      <th>9738</th>\n",
              "      <td>193583</td>\n",
              "      <td>No Game No Life: Zero (2017)</td>\n",
              "    </tr>\n",
              "    <tr>\n",
              "      <th>9739</th>\n",
              "      <td>193585</td>\n",
              "      <td>Flint (2017)</td>\n",
              "    </tr>\n",
              "    <tr>\n",
              "      <th>9740</th>\n",
              "      <td>193587</td>\n",
              "      <td>Bungo Stray Dogs: Dead Apple (2018)</td>\n",
              "    </tr>\n",
              "    <tr>\n",
              "      <th>9741</th>\n",
              "      <td>193609</td>\n",
              "      <td>Andrew Dice Clay: Dice Rules (1991)</td>\n",
              "    </tr>\n",
              "  </tbody>\n",
              "</table>\n",
              "<p>9742 rows × 2 columns</p>\n",
              "</div>"
            ],
            "text/plain": [
              "      movieId                                      title\n",
              "0           1                           Toy Story (1995)\n",
              "1           2                             Jumanji (1995)\n",
              "2           3                    Grumpier Old Men (1995)\n",
              "3           4                   Waiting to Exhale (1995)\n",
              "4           5         Father of the Bride Part II (1995)\n",
              "...       ...                                        ...\n",
              "9737   193581  Black Butler: Book of the Atlantic (2017)\n",
              "9738   193583               No Game No Life: Zero (2017)\n",
              "9739   193585                               Flint (2017)\n",
              "9740   193587        Bungo Stray Dogs: Dead Apple (2018)\n",
              "9741   193609        Andrew Dice Clay: Dice Rules (1991)\n",
              "\n",
              "[9742 rows x 2 columns]"
            ]
          },
          "execution_count": 9,
          "metadata": {},
          "output_type": "execute_result"
        }
      ],
      "source": [
        "mov_t=pd.DataFrame(movies[['movieId','title']])\n",
        "mov_t"
      ]
    },
    {
      "cell_type": "code",
      "execution_count": 10,
      "metadata": {
        "id": "dL-vmD2RozsC"
      },
      "outputs": [
        {
          "data": {
            "text/html": [
              "<div>\n",
              "<style scoped>\n",
              "    .dataframe tbody tr th:only-of-type {\n",
              "        vertical-align: middle;\n",
              "    }\n",
              "\n",
              "    .dataframe tbody tr th {\n",
              "        vertical-align: top;\n",
              "    }\n",
              "\n",
              "    .dataframe thead th {\n",
              "        text-align: right;\n",
              "    }\n",
              "</style>\n",
              "<table border=\"1\" class=\"dataframe\">\n",
              "  <thead>\n",
              "    <tr style=\"text-align: right;\">\n",
              "      <th></th>\n",
              "      <th>userId</th>\n",
              "      <th>movieId</th>\n",
              "      <th>rating</th>\n",
              "      <th>timestamp</th>\n",
              "      <th>title</th>\n",
              "    </tr>\n",
              "  </thead>\n",
              "  <tbody>\n",
              "    <tr>\n",
              "      <th>0</th>\n",
              "      <td>1</td>\n",
              "      <td>1</td>\n",
              "      <td>4.0</td>\n",
              "      <td>964982703</td>\n",
              "      <td>Toy Story (1995)</td>\n",
              "    </tr>\n",
              "    <tr>\n",
              "      <th>1</th>\n",
              "      <td>5</td>\n",
              "      <td>1</td>\n",
              "      <td>4.0</td>\n",
              "      <td>847434962</td>\n",
              "      <td>Toy Story (1995)</td>\n",
              "    </tr>\n",
              "    <tr>\n",
              "      <th>2</th>\n",
              "      <td>7</td>\n",
              "      <td>1</td>\n",
              "      <td>4.5</td>\n",
              "      <td>1106635946</td>\n",
              "      <td>Toy Story (1995)</td>\n",
              "    </tr>\n",
              "    <tr>\n",
              "      <th>3</th>\n",
              "      <td>15</td>\n",
              "      <td>1</td>\n",
              "      <td>2.5</td>\n",
              "      <td>1510577970</td>\n",
              "      <td>Toy Story (1995)</td>\n",
              "    </tr>\n",
              "    <tr>\n",
              "      <th>4</th>\n",
              "      <td>17</td>\n",
              "      <td>1</td>\n",
              "      <td>4.5</td>\n",
              "      <td>1305696483</td>\n",
              "      <td>Toy Story (1995)</td>\n",
              "    </tr>\n",
              "  </tbody>\n",
              "</table>\n",
              "</div>"
            ],
            "text/plain": [
              "   userId  movieId  rating   timestamp             title\n",
              "0       1        1     4.0   964982703  Toy Story (1995)\n",
              "1       5        1     4.0   847434962  Toy Story (1995)\n",
              "2       7        1     4.5  1106635946  Toy Story (1995)\n",
              "3      15        1     2.5  1510577970  Toy Story (1995)\n",
              "4      17        1     4.5  1305696483  Toy Story (1995)"
            ]
          },
          "execution_count": 10,
          "metadata": {},
          "output_type": "execute_result"
        }
      ],
      "source": [
        "movie_title_rating=pd.merge(ratings,mov_t,how='inner',on='movieId')\n",
        "movie_title_rating.head()"
      ]
    },
    {
      "cell_type": "code",
      "execution_count": 11,
      "metadata": {
        "id": "5z3X78YBpHFt"
      },
      "outputs": [],
      "source": [
        "rf_dataset=movie_title_rating.groupby(by=['userId','title'],as_index=False).agg({\"rating\":\"mean\"})"
      ]
    },
    {
      "cell_type": "code",
      "execution_count": 12,
      "metadata": {
        "id": "PxJ5Exrype1u"
      },
      "outputs": [
        {
          "data": {
            "text/html": [
              "<div>\n",
              "<style scoped>\n",
              "    .dataframe tbody tr th:only-of-type {\n",
              "        vertical-align: middle;\n",
              "    }\n",
              "\n",
              "    .dataframe tbody tr th {\n",
              "        vertical-align: top;\n",
              "    }\n",
              "\n",
              "    .dataframe thead th {\n",
              "        text-align: right;\n",
              "    }\n",
              "</style>\n",
              "<table border=\"1\" class=\"dataframe\">\n",
              "  <thead>\n",
              "    <tr style=\"text-align: right;\">\n",
              "      <th></th>\n",
              "      <th>userId</th>\n",
              "      <th>title</th>\n",
              "      <th>rating</th>\n",
              "    </tr>\n",
              "  </thead>\n",
              "  <tbody>\n",
              "    <tr>\n",
              "      <th>0</th>\n",
              "      <td>1</td>\n",
              "      <td>13th Warrior, The (1999)</td>\n",
              "      <td>4.0</td>\n",
              "    </tr>\n",
              "    <tr>\n",
              "      <th>1</th>\n",
              "      <td>1</td>\n",
              "      <td>20 Dates (1998)</td>\n",
              "      <td>4.0</td>\n",
              "    </tr>\n",
              "    <tr>\n",
              "      <th>2</th>\n",
              "      <td>1</td>\n",
              "      <td>Abyss, The (1989)</td>\n",
              "      <td>4.0</td>\n",
              "    </tr>\n",
              "    <tr>\n",
              "      <th>3</th>\n",
              "      <td>1</td>\n",
              "      <td>Adventures of Robin Hood, The (1938)</td>\n",
              "      <td>5.0</td>\n",
              "    </tr>\n",
              "    <tr>\n",
              "      <th>4</th>\n",
              "      <td>1</td>\n",
              "      <td>Alice in Wonderland (1951)</td>\n",
              "      <td>5.0</td>\n",
              "    </tr>\n",
              "    <tr>\n",
              "      <th>...</th>\n",
              "      <td>...</td>\n",
              "      <td>...</td>\n",
              "      <td>...</td>\n",
              "    </tr>\n",
              "    <tr>\n",
              "      <th>100827</th>\n",
              "      <td>610</td>\n",
              "      <td>[REC] (2007)</td>\n",
              "      <td>4.0</td>\n",
              "    </tr>\n",
              "    <tr>\n",
              "      <th>100828</th>\n",
              "      <td>610</td>\n",
              "      <td>[REC]² (2009)</td>\n",
              "      <td>3.5</td>\n",
              "    </tr>\n",
              "    <tr>\n",
              "      <th>100829</th>\n",
              "      <td>610</td>\n",
              "      <td>[REC]³ 3 Génesis (2012)</td>\n",
              "      <td>3.0</td>\n",
              "    </tr>\n",
              "    <tr>\n",
              "      <th>100830</th>\n",
              "      <td>610</td>\n",
              "      <td>xXx (2002)</td>\n",
              "      <td>2.0</td>\n",
              "    </tr>\n",
              "    <tr>\n",
              "      <th>100831</th>\n",
              "      <td>610</td>\n",
              "      <td>xXx: State of the Union (2005)</td>\n",
              "      <td>1.5</td>\n",
              "    </tr>\n",
              "  </tbody>\n",
              "</table>\n",
              "<p>100832 rows × 3 columns</p>\n",
              "</div>"
            ],
            "text/plain": [
              "        userId                                 title  rating\n",
              "0            1              13th Warrior, The (1999)     4.0\n",
              "1            1                       20 Dates (1998)     4.0\n",
              "2            1                     Abyss, The (1989)     4.0\n",
              "3            1  Adventures of Robin Hood, The (1938)     5.0\n",
              "4            1            Alice in Wonderland (1951)     5.0\n",
              "...        ...                                   ...     ...\n",
              "100827     610                          [REC] (2007)     4.0\n",
              "100828     610                         [REC]² (2009)     3.5\n",
              "100829     610               [REC]³ 3 Génesis (2012)     3.0\n",
              "100830     610                            xXx (2002)     2.0\n",
              "100831     610        xXx: State of the Union (2005)     1.5\n",
              "\n",
              "[100832 rows x 3 columns]"
            ]
          },
          "execution_count": 12,
          "metadata": {},
          "output_type": "execute_result"
        }
      ],
      "source": [
        "rf_dataset"
      ]
    },
    {
      "cell_type": "markdown",
      "metadata": {
        "id": "5F1vbmMHpiRZ"
      },
      "source": [
        "####The rf_dataset contains the userId,title and rating groupbyed the userId"
      ]
    },
    {
      "cell_type": "markdown",
      "metadata": {
        "id": "4tVUS1KQZDOs"
      },
      "source": [
        "###Plotting the count for each rating"
      ]
    },
    {
      "cell_type": "code",
      "execution_count": 13,
      "metadata": {
        "id": "sxzLQ3z9c3eq"
      },
      "outputs": [
        {
          "data": {
            "text/plain": [
              "Text(0.5, 1.0, 'Distribution of ratings')"
            ]
          },
          "execution_count": 13,
          "metadata": {},
          "output_type": "execute_result"
        },
        {
          "data": {
            "image/png": "[encoded data removed]",
            "text/plain": [
              "<Figure size 1080x720 with 1 Axes>"
            ]
          },
          "metadata": {
            "needs_background": "light"
          },
          "output_type": "display_data"
        }
      ],
      "source": [
        "plt.figure(figsize=(15,10))\n",
        "plt.rcParams.update({'font.size': 22})\n",
        "ratings['rating'].hist(grid=True)\n",
        "plt.xlabel('Rating')\n",
        "plt.ylabel('Frequency')\n",
        "plt.title('Distribution of ratings')"
      ]
    },
    {
      "cell_type": "markdown",
      "metadata": {
        "id": "p5FfwumidnW3"
      },
      "source": [
        "####The above plot tells us that most of the users who watched movies gave it a rating of 4 followed by 3."
      ]
    },
    {
      "cell_type": "markdown",
      "metadata": {
        "id": "mTNQTTFvhnMF"
      },
      "source": [
        "###Visualizing the count of each movies"
      ]
    },
    {
      "cell_type": "code",
      "execution_count": 14,
      "metadata": {
        "id": "6jlLVMS-d93i"
      },
      "outputs": [],
      "source": [
        "movies_count=pd.DataFrame(ratings.groupby('movieId').size(),columns=['movie_count'])"
      ]
    },
    {
      "cell_type": "code",
      "execution_count": 15,
      "metadata": {
        "id": "Ly-vB5byiCE1"
      },
      "outputs": [
        {
          "data": {
            "text/html": [
              "<div>\n",
              "<style scoped>\n",
              "    .dataframe tbody tr th:only-of-type {\n",
              "        vertical-align: middle;\n",
              "    }\n",
              "\n",
              "    .dataframe tbody tr th {\n",
              "        vertical-align: top;\n",
              "    }\n",
              "\n",
              "    .dataframe thead th {\n",
              "        text-align: right;\n",
              "    }\n",
              "</style>\n",
              "<table border=\"1\" class=\"dataframe\">\n",
              "  <thead>\n",
              "    <tr style=\"text-align: right;\">\n",
              "      <th></th>\n",
              "      <th>movie_count</th>\n",
              "    </tr>\n",
              "    <tr>\n",
              "      <th>movieId</th>\n",
              "      <th></th>\n",
              "    </tr>\n",
              "  </thead>\n",
              "  <tbody>\n",
              "    <tr>\n",
              "      <th>1</th>\n",
              "      <td>215</td>\n",
              "    </tr>\n",
              "    <tr>\n",
              "      <th>2</th>\n",
              "      <td>110</td>\n",
              "    </tr>\n",
              "    <tr>\n",
              "      <th>3</th>\n",
              "      <td>52</td>\n",
              "    </tr>\n",
              "    <tr>\n",
              "      <th>4</th>\n",
              "      <td>7</td>\n",
              "    </tr>\n",
              "    <tr>\n",
              "      <th>5</th>\n",
              "      <td>49</td>\n",
              "    </tr>\n",
              "    <tr>\n",
              "      <th>...</th>\n",
              "      <td>...</td>\n",
              "    </tr>\n",
              "    <tr>\n",
              "      <th>193581</th>\n",
              "      <td>1</td>\n",
              "    </tr>\n",
              "    <tr>\n",
              "      <th>193583</th>\n",
              "      <td>1</td>\n",
              "    </tr>\n",
              "    <tr>\n",
              "      <th>193585</th>\n",
              "      <td>1</td>\n",
              "    </tr>\n",
              "    <tr>\n",
              "      <th>193587</th>\n",
              "      <td>1</td>\n",
              "    </tr>\n",
              "    <tr>\n",
              "      <th>193609</th>\n",
              "      <td>1</td>\n",
              "    </tr>\n",
              "  </tbody>\n",
              "</table>\n",
              "<p>9724 rows × 1 columns</p>\n",
              "</div>"
            ],
            "text/plain": [
              "         movie_count\n",
              "movieId             \n",
              "1                215\n",
              "2                110\n",
              "3                 52\n",
              "4                  7\n",
              "5                 49\n",
              "...              ...\n",
              "193581             1\n",
              "193583             1\n",
              "193585             1\n",
              "193587             1\n",
              "193609             1\n",
              "\n",
              "[9724 rows x 1 columns]"
            ]
          },
          "execution_count": 15,
          "metadata": {},
          "output_type": "execute_result"
        }
      ],
      "source": [
        "movies_count"
      ]
    },
    {
      "cell_type": "code",
      "execution_count": 16,
      "metadata": {
        "id": "LXTU3E8SiI4Y"
      },
      "outputs": [
        {
          "data": {
            "text/plain": [
              "Text(0, 0.5, 'number of ratings')"
            ]
          },
          "execution_count": 16,
          "metadata": {},
          "output_type": "execute_result"
        },
        {
          "data": {
            "image/png": "[encoded data removed]",
            "text/plain": [
              "<Figure size 864x576 with 1 Axes>"
            ]
          },
          "metadata": {
            "needs_background": "light"
          },
          "output_type": "display_data"
        }
      ],
      "source": [
        "ax = movies_count \\\n",
        "    .sort_values('movie_count', ascending=False) \\\n",
        "    .reset_index(drop=True) \\\n",
        "    .plot(\n",
        "        figsize=(12, 8),\n",
        "        title='Rating Frequency of All Movies',\n",
        "        fontsize=12\n",
        "    )\n",
        "ax.set_xlabel(\"movie Id\")\n",
        "ax.set_ylabel(\"number of ratings\")"
      ]
    },
    {
      "cell_type": "markdown",
      "metadata": {
        "id": "4qtp4k0jjOzf"
      },
      "source": [
        "####We can see the issue of long tail property in this dataset. i.e movie after Id 2000 to 9724 have very less number of user ratings.We will deal with issue later"
      ]
    },
    {
      "cell_type": "markdown",
      "metadata": {
        "id": "nWmT82I0jmp0"
      },
      "source": [
        "##Employing K Nearest Neighbour on our Model"
      ]
    },
    {
      "cell_type": "markdown",
      "metadata": {
        "id": "sxC-uD3JkN1h"
      },
      "source": [
        "###Creating a df_moive dataset which has the movieId as the column number and the userId as the row number"
      ]
    },
    {
      "cell_type": "code",
      "execution_count": 17,
      "metadata": {
        "id": "zJJ2OUXi6iIx"
      },
      "outputs": [
        {
          "data": {
            "text/html": [
              "<div>\n",
              "<style scoped>\n",
              "    .dataframe tbody tr th:only-of-type {\n",
              "        vertical-align: middle;\n",
              "    }\n",
              "\n",
              "    .dataframe tbody tr th {\n",
              "        vertical-align: top;\n",
              "    }\n",
              "\n",
              "    .dataframe thead th {\n",
              "        text-align: right;\n",
              "    }\n",
              "</style>\n",
              "<table border=\"1\" class=\"dataframe\">\n",
              "  <thead>\n",
              "    <tr style=\"text-align: right;\">\n",
              "      <th>movieId</th>\n",
              "      <th>1</th>\n",
              "      <th>2</th>\n",
              "      <th>3</th>\n",
              "      <th>4</th>\n",
              "      <th>5</th>\n",
              "      <th>6</th>\n",
              "      <th>7</th>\n",
              "      <th>8</th>\n",
              "      <th>9</th>\n",
              "      <th>10</th>\n",
              "      <th>...</th>\n",
              "      <th>193565</th>\n",
              "      <th>193567</th>\n",
              "      <th>193571</th>\n",
              "      <th>193573</th>\n",
              "      <th>193579</th>\n",
              "      <th>193581</th>\n",
              "      <th>193583</th>\n",
              "      <th>193585</th>\n",
              "      <th>193587</th>\n",
              "      <th>193609</th>\n",
              "    </tr>\n",
              "    <tr>\n",
              "      <th>userId</th>\n",
              "      <th></th>\n",
              "      <th></th>\n",
              "      <th></th>\n",
              "      <th></th>\n",
              "      <th></th>\n",
              "      <th></th>\n",
              "      <th></th>\n",
              "      <th></th>\n",
              "      <th></th>\n",
              "      <th></th>\n",
              "      <th></th>\n",
              "      <th></th>\n",
              "      <th></th>\n",
              "      <th></th>\n",
              "      <th></th>\n",
              "      <th></th>\n",
              "      <th></th>\n",
              "      <th></th>\n",
              "      <th></th>\n",
              "      <th></th>\n",
              "      <th></th>\n",
              "    </tr>\n",
              "  </thead>\n",
              "  <tbody>\n",
              "    <tr>\n",
              "      <th>1</th>\n",
              "      <td>4.0</td>\n",
              "      <td>NaN</td>\n",
              "      <td>4.0</td>\n",
              "      <td>NaN</td>\n",
              "      <td>NaN</td>\n",
              "      <td>4.0</td>\n",
              "      <td>NaN</td>\n",
              "      <td>NaN</td>\n",
              "      <td>NaN</td>\n",
              "      <td>NaN</td>\n",
              "      <td>...</td>\n",
              "      <td>NaN</td>\n",
              "      <td>NaN</td>\n",
              "      <td>NaN</td>\n",
              "      <td>NaN</td>\n",
              "      <td>NaN</td>\n",
              "      <td>NaN</td>\n",
              "      <td>NaN</td>\n",
              "      <td>NaN</td>\n",
              "      <td>NaN</td>\n",
              "      <td>NaN</td>\n",
              "    </tr>\n",
              "    <tr>\n",
              "      <th>2</th>\n",
              "      <td>NaN</td>\n",
              "      <td>NaN</td>\n",
              "      <td>NaN</td>\n",
              "      <td>NaN</td>\n",
              "      <td>NaN</td>\n",
              "      <td>NaN</td>\n",
              "      <td>NaN</td>\n",
              "      <td>NaN</td>\n",
              "      <td>NaN</td>\n",
              "      <td>NaN</td>\n",
              "      <td>...</td>\n",
              "      <td>NaN</td>\n",
              "      <td>NaN</td>\n",
              "      <td>NaN</td>\n",
              "      <td>NaN</td>\n",
              "      <td>NaN</td>\n",
              "      <td>NaN</td>\n",
              "      <td>NaN</td>\n",
              "      <td>NaN</td>\n",
              "      <td>NaN</td>\n",
              "      <td>NaN</td>\n",
              "    </tr>\n",
              "    <tr>\n",
              "      <th>3</th>\n",
              "      <td>NaN</td>\n",
              "      <td>NaN</td>\n",
              "      <td>NaN</td>\n",
              "      <td>NaN</td>\n",
              "      <td>NaN</td>\n",
              "      <td>NaN</td>\n",
              "      <td>NaN</td>\n",
              "      <td>NaN</td>\n",
              "      <td>NaN</td>\n",
              "      <td>NaN</td>\n",
              "      <td>...</td>\n",
              "      <td>NaN</td>\n",
              "      <td>NaN</td>\n",
              "      <td>NaN</td>\n",
              "      <td>NaN</td>\n",
              "      <td>NaN</td>\n",
              "      <td>NaN</td>\n",
              "      <td>NaN</td>\n",
              "      <td>NaN</td>\n",
              "      <td>NaN</td>\n",
              "      <td>NaN</td>\n",
              "    </tr>\n",
              "    <tr>\n",
              "      <th>4</th>\n",
              "      <td>NaN</td>\n",
              "      <td>NaN</td>\n",
              "      <td>NaN</td>\n",
              "      <td>NaN</td>\n",
              "      <td>NaN</td>\n",
              "      <td>NaN</td>\n",
              "      <td>NaN</td>\n",
              "      <td>NaN</td>\n",
              "      <td>NaN</td>\n",
              "      <td>NaN</td>\n",
              "      <td>...</td>\n",
              "      <td>NaN</td>\n",
              "      <td>NaN</td>\n",
              "      <td>NaN</td>\n",
              "      <td>NaN</td>\n",
              "      <td>NaN</td>\n",
              "      <td>NaN</td>\n",
              "      <td>NaN</td>\n",
              "      <td>NaN</td>\n",
              "      <td>NaN</td>\n",
              "      <td>NaN</td>\n",
              "    </tr>\n",
              "    <tr>\n",
              "      <th>5</th>\n",
              "      <td>4.0</td>\n",
              "      <td>NaN</td>\n",
              "      <td>NaN</td>\n",
              "      <td>NaN</td>\n",
              "      <td>NaN</td>\n",
              "      <td>NaN</td>\n",
              "      <td>NaN</td>\n",
              "      <td>NaN</td>\n",
              "      <td>NaN</td>\n",
              "      <td>NaN</td>\n",
              "      <td>...</td>\n",
              "      <td>NaN</td>\n",
              "      <td>NaN</td>\n",
              "      <td>NaN</td>\n",
              "      <td>NaN</td>\n",
              "      <td>NaN</td>\n",
              "      <td>NaN</td>\n",
              "      <td>NaN</td>\n",
              "      <td>NaN</td>\n",
              "      <td>NaN</td>\n",
              "      <td>NaN</td>\n",
              "    </tr>\n",
              "  </tbody>\n",
              "</table>\n",
              "<p>5 rows × 9724 columns</p>\n",
              "</div>"
            ],
            "text/plain": [
              "movieId  1       2       3       4       5       6       7       8       \\\n",
              "userId                                                                    \n",
              "1           4.0     NaN     4.0     NaN     NaN     4.0     NaN     NaN   \n",
              "2           NaN     NaN     NaN     NaN     NaN     NaN     NaN     NaN   \n",
              "3           NaN     NaN     NaN     NaN     NaN     NaN     NaN     NaN   \n",
              "4           NaN     NaN     NaN     NaN     NaN     NaN     NaN     NaN   \n",
              "5           4.0     NaN     NaN     NaN     NaN     NaN     NaN     NaN   \n",
              "\n",
              "movieId  9       10      ...  193565  193567  193571  193573  193579  193581  \\\n",
              "userId                   ...                                                   \n",
              "1           NaN     NaN  ...     NaN     NaN     NaN     NaN     NaN     NaN   \n",
              "2           NaN     NaN  ...     NaN     NaN     NaN     NaN     NaN     NaN   \n",
              "3           NaN     NaN  ...     NaN     NaN     NaN     NaN     NaN     NaN   \n",
              "4           NaN     NaN  ...     NaN     NaN     NaN     NaN     NaN     NaN   \n",
              "5           NaN     NaN  ...     NaN     NaN     NaN     NaN     NaN     NaN   \n",
              "\n",
              "movieId  193583  193585  193587  193609  \n",
              "userId                                   \n",
              "1           NaN     NaN     NaN     NaN  \n",
              "2           NaN     NaN     NaN     NaN  \n",
              "3           NaN     NaN     NaN     NaN  \n",
              "4           NaN     NaN     NaN     NaN  \n",
              "5           NaN     NaN     NaN     NaN  \n",
              "\n",
              "[5 rows x 9724 columns]"
            ]
          },
          "execution_count": 17,
          "metadata": {},
          "output_type": "execute_result"
        }
      ],
      "source": [
        "df_movie=ratings.pivot(index='userId',columns='movieId',values='rating')\n",
        "df_movie.head()"
      ]
    },
    {
      "cell_type": "code",
      "execution_count": 18,
      "metadata": {
        "id": "MJzMBjWhlYYt"
      },
      "outputs": [
        {
          "data": {
            "text/html": [
              "<div>\n",
              "<style scoped>\n",
              "    .dataframe tbody tr th:only-of-type {\n",
              "        vertical-align: middle;\n",
              "    }\n",
              "\n",
              "    .dataframe tbody tr th {\n",
              "        vertical-align: top;\n",
              "    }\n",
              "\n",
              "    .dataframe thead th {\n",
              "        text-align: right;\n",
              "    }\n",
              "</style>\n",
              "<table border=\"1\" class=\"dataframe\">\n",
              "  <thead>\n",
              "    <tr style=\"text-align: right;\">\n",
              "      <th>movieId</th>\n",
              "      <th>1</th>\n",
              "      <th>2</th>\n",
              "      <th>3</th>\n",
              "      <th>4</th>\n",
              "      <th>5</th>\n",
              "      <th>6</th>\n",
              "      <th>7</th>\n",
              "      <th>8</th>\n",
              "      <th>9</th>\n",
              "      <th>10</th>\n",
              "      <th>...</th>\n",
              "      <th>193565</th>\n",
              "      <th>193567</th>\n",
              "      <th>193571</th>\n",
              "      <th>193573</th>\n",
              "      <th>193579</th>\n",
              "      <th>193581</th>\n",
              "      <th>193583</th>\n",
              "      <th>193585</th>\n",
              "      <th>193587</th>\n",
              "      <th>193609</th>\n",
              "    </tr>\n",
              "    <tr>\n",
              "      <th>userId</th>\n",
              "      <th></th>\n",
              "      <th></th>\n",
              "      <th></th>\n",
              "      <th></th>\n",
              "      <th></th>\n",
              "      <th></th>\n",
              "      <th></th>\n",
              "      <th></th>\n",
              "      <th></th>\n",
              "      <th></th>\n",
              "      <th></th>\n",
              "      <th></th>\n",
              "      <th></th>\n",
              "      <th></th>\n",
              "      <th></th>\n",
              "      <th></th>\n",
              "      <th></th>\n",
              "      <th></th>\n",
              "      <th></th>\n",
              "      <th></th>\n",
              "      <th></th>\n",
              "    </tr>\n",
              "  </thead>\n",
              "  <tbody>\n",
              "    <tr>\n",
              "      <th>1</th>\n",
              "      <td>4.0</td>\n",
              "      <td>0.0</td>\n",
              "      <td>4.0</td>\n",
              "      <td>0.0</td>\n",
              "      <td>0.0</td>\n",
              "      <td>4.0</td>\n",
              "      <td>0.0</td>\n",
              "      <td>0.0</td>\n",
              "      <td>0.0</td>\n",
              "      <td>0.0</td>\n",
              "      <td>...</td>\n",
              "      <td>0.0</td>\n",
              "      <td>0.0</td>\n",
              "      <td>0.0</td>\n",
              "      <td>0.0</td>\n",
              "      <td>0.0</td>\n",
              "      <td>0.0</td>\n",
              "      <td>0.0</td>\n",
              "      <td>0.0</td>\n",
              "      <td>0.0</td>\n",
              "      <td>0.0</td>\n",
              "    </tr>\n",
              "    <tr>\n",
              "      <th>2</th>\n",
              "      <td>0.0</td>\n",
              "      <td>0.0</td>\n",
              "      <td>0.0</td>\n",
              "      <td>0.0</td>\n",
              "      <td>0.0</td>\n",
              "      <td>0.0</td>\n",
              "      <td>0.0</td>\n",
              "      <td>0.0</td>\n",
              "      <td>0.0</td>\n",
              "      <td>0.0</td>\n",
              "      <td>...</td>\n",
              "      <td>0.0</td>\n",
              "      <td>0.0</td>\n",
              "      <td>0.0</td>\n",
              "      <td>0.0</td>\n",
              "      <td>0.0</td>\n",
              "      <td>0.0</td>\n",
              "      <td>0.0</td>\n",
              "      <td>0.0</td>\n",
              "      <td>0.0</td>\n",
              "      <td>0.0</td>\n",
              "    </tr>\n",
              "    <tr>\n",
              "      <th>3</th>\n",
              "      <td>0.0</td>\n",
              "      <td>0.0</td>\n",
              "      <td>0.0</td>\n",
              "      <td>0.0</td>\n",
              "      <td>0.0</td>\n",
              "      <td>0.0</td>\n",
              "      <td>0.0</td>\n",
              "      <td>0.0</td>\n",
              "      <td>0.0</td>\n",
              "      <td>0.0</td>\n",
              "      <td>...</td>\n",
              "      <td>0.0</td>\n",
              "      <td>0.0</td>\n",
              "      <td>0.0</td>\n",
              "      <td>0.0</td>\n",
              "      <td>0.0</td>\n",
              "      <td>0.0</td>\n",
              "      <td>0.0</td>\n",
              "      <td>0.0</td>\n",
              "      <td>0.0</td>\n",
              "      <td>0.0</td>\n",
              "    </tr>\n",
              "    <tr>\n",
              "      <th>4</th>\n",
              "      <td>0.0</td>\n",
              "      <td>0.0</td>\n",
              "      <td>0.0</td>\n",
              "      <td>0.0</td>\n",
              "      <td>0.0</td>\n",
              "      <td>0.0</td>\n",
              "      <td>0.0</td>\n",
              "      <td>0.0</td>\n",
              "      <td>0.0</td>\n",
              "      <td>0.0</td>\n",
              "      <td>...</td>\n",
              "      <td>0.0</td>\n",
              "      <td>0.0</td>\n",
              "      <td>0.0</td>\n",
              "      <td>0.0</td>\n",
              "      <td>0.0</td>\n",
              "      <td>0.0</td>\n",
              "      <td>0.0</td>\n",
              "      <td>0.0</td>\n",
              "      <td>0.0</td>\n",
              "      <td>0.0</td>\n",
              "    </tr>\n",
              "    <tr>\n",
              "      <th>5</th>\n",
              "      <td>4.0</td>\n",
              "      <td>0.0</td>\n",
              "      <td>0.0</td>\n",
              "      <td>0.0</td>\n",
              "      <td>0.0</td>\n",
              "      <td>0.0</td>\n",
              "      <td>0.0</td>\n",
              "      <td>0.0</td>\n",
              "      <td>0.0</td>\n",
              "      <td>0.0</td>\n",
              "      <td>...</td>\n",
              "      <td>0.0</td>\n",
              "      <td>0.0</td>\n",
              "      <td>0.0</td>\n",
              "      <td>0.0</td>\n",
              "      <td>0.0</td>\n",
              "      <td>0.0</td>\n",
              "      <td>0.0</td>\n",
              "      <td>0.0</td>\n",
              "      <td>0.0</td>\n",
              "      <td>0.0</td>\n",
              "    </tr>\n",
              "    <tr>\n",
              "      <th>...</th>\n",
              "      <td>...</td>\n",
              "      <td>...</td>\n",
              "      <td>...</td>\n",
              "      <td>...</td>\n",
              "      <td>...</td>\n",
              "      <td>...</td>\n",
              "      <td>...</td>\n",
              "      <td>...</td>\n",
              "      <td>...</td>\n",
              "      <td>...</td>\n",
              "      <td>...</td>\n",
              "      <td>...</td>\n",
              "      <td>...</td>\n",
              "      <td>...</td>\n",
              "      <td>...</td>\n",
              "      <td>...</td>\n",
              "      <td>...</td>\n",
              "      <td>...</td>\n",
              "      <td>...</td>\n",
              "      <td>...</td>\n",
              "      <td>...</td>\n",
              "    </tr>\n",
              "    <tr>\n",
              "      <th>606</th>\n",
              "      <td>2.5</td>\n",
              "      <td>0.0</td>\n",
              "      <td>0.0</td>\n",
              "      <td>0.0</td>\n",
              "      <td>0.0</td>\n",
              "      <td>0.0</td>\n",
              "      <td>2.5</td>\n",
              "      <td>0.0</td>\n",
              "      <td>0.0</td>\n",
              "      <td>0.0</td>\n",
              "      <td>...</td>\n",
              "      <td>0.0</td>\n",
              "      <td>0.0</td>\n",
              "      <td>0.0</td>\n",
              "      <td>0.0</td>\n",
              "      <td>0.0</td>\n",
              "      <td>0.0</td>\n",
              "      <td>0.0</td>\n",
              "      <td>0.0</td>\n",
              "      <td>0.0</td>\n",
              "      <td>0.0</td>\n",
              "    </tr>\n",
              "    <tr>\n",
              "      <th>607</th>\n",
              "      <td>4.0</td>\n",
              "      <td>0.0</td>\n",
              "      <td>0.0</td>\n",
              "      <td>0.0</td>\n",
              "      <td>0.0</td>\n",
              "      <td>0.0</td>\n",
              "      <td>0.0</td>\n",
              "      <td>0.0</td>\n",
              "      <td>0.0</td>\n",
              "      <td>0.0</td>\n",
              "      <td>...</td>\n",
              "      <td>0.0</td>\n",
              "      <td>0.0</td>\n",
              "      <td>0.0</td>\n",
              "      <td>0.0</td>\n",
              "      <td>0.0</td>\n",
              "      <td>0.0</td>\n",
              "      <td>0.0</td>\n",
              "      <td>0.0</td>\n",
              "      <td>0.0</td>\n",
              "      <td>0.0</td>\n",
              "    </tr>\n",
              "    <tr>\n",
              "      <th>608</th>\n",
              "      <td>2.5</td>\n",
              "      <td>2.0</td>\n",
              "      <td>2.0</td>\n",
              "      <td>0.0</td>\n",
              "      <td>0.0</td>\n",
              "      <td>0.0</td>\n",
              "      <td>0.0</td>\n",
              "      <td>0.0</td>\n",
              "      <td>0.0</td>\n",
              "      <td>4.0</td>\n",
              "      <td>...</td>\n",
              "      <td>0.0</td>\n",
              "      <td>0.0</td>\n",
              "      <td>0.0</td>\n",
              "      <td>0.0</td>\n",
              "      <td>0.0</td>\n",
              "      <td>0.0</td>\n",
              "      <td>0.0</td>\n",
              "      <td>0.0</td>\n",
              "      <td>0.0</td>\n",
              "      <td>0.0</td>\n",
              "    </tr>\n",
              "    <tr>\n",
              "      <th>609</th>\n",
              "      <td>3.0</td>\n",
              "      <td>0.0</td>\n",
              "      <td>0.0</td>\n",
              "      <td>0.0</td>\n",
              "      <td>0.0</td>\n",
              "      <td>0.0</td>\n",
              "      <td>0.0</td>\n",
              "      <td>0.0</td>\n",
              "      <td>0.0</td>\n",
              "      <td>4.0</td>\n",
              "      <td>...</td>\n",
              "      <td>0.0</td>\n",
              "      <td>0.0</td>\n",
              "      <td>0.0</td>\n",
              "      <td>0.0</td>\n",
              "      <td>0.0</td>\n",
              "      <td>0.0</td>\n",
              "      <td>0.0</td>\n",
              "      <td>0.0</td>\n",
              "      <td>0.0</td>\n",
              "      <td>0.0</td>\n",
              "    </tr>\n",
              "    <tr>\n",
              "      <th>610</th>\n",
              "      <td>5.0</td>\n",
              "      <td>0.0</td>\n",
              "      <td>0.0</td>\n",
              "      <td>0.0</td>\n",
              "      <td>0.0</td>\n",
              "      <td>5.0</td>\n",
              "      <td>0.0</td>\n",
              "      <td>0.0</td>\n",
              "      <td>0.0</td>\n",
              "      <td>0.0</td>\n",
              "      <td>...</td>\n",
              "      <td>0.0</td>\n",
              "      <td>0.0</td>\n",
              "      <td>0.0</td>\n",
              "      <td>0.0</td>\n",
              "      <td>0.0</td>\n",
              "      <td>0.0</td>\n",
              "      <td>0.0</td>\n",
              "      <td>0.0</td>\n",
              "      <td>0.0</td>\n",
              "      <td>0.0</td>\n",
              "    </tr>\n",
              "  </tbody>\n",
              "</table>\n",
              "<p>610 rows × 9724 columns</p>\n",
              "</div>"
            ],
            "text/plain": [
              "movieId  1       2       3       4       5       6       7       8       \\\n",
              "userId                                                                    \n",
              "1           4.0     0.0     4.0     0.0     0.0     4.0     0.0     0.0   \n",
              "2           0.0     0.0     0.0     0.0     0.0     0.0     0.0     0.0   \n",
              "3           0.0     0.0     0.0     0.0     0.0     0.0     0.0     0.0   \n",
              "4           0.0     0.0     0.0     0.0     0.0     0.0     0.0     0.0   \n",
              "5           4.0     0.0     0.0     0.0     0.0     0.0     0.0     0.0   \n",
              "...         ...     ...     ...     ...     ...     ...     ...     ...   \n",
              "606         2.5     0.0     0.0     0.0     0.0     0.0     2.5     0.0   \n",
              "607         4.0     0.0     0.0     0.0     0.0     0.0     0.0     0.0   \n",
              "608         2.5     2.0     2.0     0.0     0.0     0.0     0.0     0.0   \n",
              "609         3.0     0.0     0.0     0.0     0.0     0.0     0.0     0.0   \n",
              "610         5.0     0.0     0.0     0.0     0.0     5.0     0.0     0.0   \n",
              "\n",
              "movieId  9       10      ...  193565  193567  193571  193573  193579  193581  \\\n",
              "userId                   ...                                                   \n",
              "1           0.0     0.0  ...     0.0     0.0     0.0     0.0     0.0     0.0   \n",
              "2           0.0     0.0  ...     0.0     0.0     0.0     0.0     0.0     0.0   \n",
              "3           0.0     0.0  ...     0.0     0.0     0.0     0.0     0.0     0.0   \n",
              "4           0.0     0.0  ...     0.0     0.0     0.0     0.0     0.0     0.0   \n",
              "5           0.0     0.0  ...     0.0     0.0     0.0     0.0     0.0     0.0   \n",
              "...         ...     ...  ...     ...     ...     ...     ...     ...     ...   \n",
              "606         0.0     0.0  ...     0.0     0.0     0.0     0.0     0.0     0.0   \n",
              "607         0.0     0.0  ...     0.0     0.0     0.0     0.0     0.0     0.0   \n",
              "608         0.0     4.0  ...     0.0     0.0     0.0     0.0     0.0     0.0   \n",
              "609         0.0     4.0  ...     0.0     0.0     0.0     0.0     0.0     0.0   \n",
              "610         0.0     0.0  ...     0.0     0.0     0.0     0.0     0.0     0.0   \n",
              "\n",
              "movieId  193583  193585  193587  193609  \n",
              "userId                                   \n",
              "1           0.0     0.0     0.0     0.0  \n",
              "2           0.0     0.0     0.0     0.0  \n",
              "3           0.0     0.0     0.0     0.0  \n",
              "4           0.0     0.0     0.0     0.0  \n",
              "5           0.0     0.0     0.0     0.0  \n",
              "...         ...     ...     ...     ...  \n",
              "606         0.0     0.0     0.0     0.0  \n",
              "607         0.0     0.0     0.0     0.0  \n",
              "608         0.0     0.0     0.0     0.0  \n",
              "609         0.0     0.0     0.0     0.0  \n",
              "610         0.0     0.0     0.0     0.0  \n",
              "\n",
              "[610 rows x 9724 columns]"
            ]
          },
          "execution_count": 18,
          "metadata": {},
          "output_type": "execute_result"
        }
      ],
      "source": [
        "df_movie.fillna(0,inplace=True)\n",
        "df_movie"
      ]
    },
    {
      "cell_type": "markdown",
      "metadata": {
        "id": "l604i1oglAhN"
      },
      "source": [
        "###Creating a sparse matrix from the df_movie dataset so that we can operate on it further smoothly"
      ]
    },
    {
      "cell_type": "code",
      "execution_count": 19,
      "metadata": {
        "id": "W6dntwDtkchZ"
      },
      "outputs": [
        {
          "data": {
            "text/plain": [
              "<610x9724 sparse matrix of type '<class 'numpy.float64'>'\n",
              "\twith 100836 stored elements in Compressed Sparse Row format>"
            ]
          },
          "execution_count": 19,
          "metadata": {},
          "output_type": "execute_result"
        }
      ],
      "source": [
        "user_movie_sparse=csr_matrix(df_movie.values)\n",
        "user_movie_sparse"
      ]
    },
    {
      "cell_type": "markdown",
      "metadata": {
        "id": "PjMs1zDMk8LB"
      },
      "source": [
        "###Fitting the K Nearest Neighbours model to the sparse matrix"
      ]
    },
    {
      "cell_type": "code",
      "execution_count": 20,
      "metadata": {
        "id": "Lo99wvpDk00y"
      },
      "outputs": [
        {
          "data": {
            "text/plain": [
              "NearestNeighbors(algorithm='brute', metric='cosine')"
            ]
          },
          "execution_count": 20,
          "metadata": {},
          "output_type": "execute_result"
        }
      ],
      "source": [
        "knn_model = NearestNeighbors(metric='cosine', algorithm='brute')\n",
        "knn_model.fit(user_movie_sparse)"
      ]
    },
    {
      "cell_type": "markdown",
      "metadata": {
        "id": "_Boeogo_lpzj"
      },
      "source": [
        "###Further we define a function to get the top k (k is passed of as an argument to the function) users matching a given user."
      ]
    },
    {
      "cell_type": "code",
      "execution_count": 21,
      "metadata": {
        "id": "L1_dPcGPl0Vt"
      },
      "outputs": [],
      "source": [
        "def similar_users(userId,n_users=10):\n",
        "  knn_input=np.asarray([df_movie.values[userId-1]])\n",
        "  dists,idxs=knn_model.kneighbors(knn_input,n_neighbors=n_users+1)\n",
        "  \n",
        "  print(f'Top {n_users} users who are the most similar to user {userId} are: ')\n",
        "  for i in range(1,len(dists[0])):\n",
        "    print(f'{i} User {idxs[0][i]+1} separated by distance of {dists[0][i]}')\n",
        "  return idxs.flatten()[1:]+1,dists.flatten()[1:]"
      ]
    },
    {
      "cell_type": "markdown",
      "metadata": {
        "id": "5bhrRX4bnkJ2"
      },
      "source": [
        "####Testing this similar_user() function"
      ]
    },
    {
      "cell_type": "code",
      "execution_count": 22,
      "metadata": {
        "id": "HRljB1iVneQk"
      },
      "outputs": [],
      "source": [
        "from pprint import pprint"
      ]
    },
    {
      "cell_type": "code",
      "execution_count": 23,
      "metadata": {
        "id": "cz01YBR3nhmJ"
      },
      "outputs": [
        {
          "name": "stdout",
          "output_type": "stream",
          "text": [
            "Some Movies seen by the User 77:\n",
            "[\"Amelie (Fabuleux destin d'Amélie Poulain, Le) (2001)\",\n",
            " 'Batman Begins (2005)',\n",
            " 'Bourne Identity, The (2002)',\n",
            " 'Bourne Ultimatum, The (2007)',\n",
            " 'Catch Me If You Can (2002)',\n",
            " 'Crouching Tiger, Hidden Dragon (Wo hu cang long) (2000)',\n",
            " 'Dark Knight, The (2008)',\n",
            " 'Donnie Darko (2001)',\n",
            " 'Eternal Sunshine of the Spotless Mind (2004)',\n",
            " 'Gladiator (2000)']\n",
            "Top 10 users who are the most similar to user 77 are: \n",
            "1 User 399 separated by distance of 0.5303046091304774\n",
            "2 User 30 separated by distance of 0.5512437341520852\n",
            "3 User 407 separated by distance of 0.5706275328702807\n",
            "4 User 189 separated by distance of 0.5986455270692603\n",
            "5 User 25 separated by distance of 0.6184055063873423\n",
            "6 User 86 separated by distance of 0.623934557446298\n",
            "7 User 112 separated by distance of 0.6379959064605797\n",
            "8 User 366 separated by distance of 0.6410001284979502\n",
            "9 User 487 separated by distance of 0.6457905229877801\n",
            "10 User 475 separated by distance of 0.6493705457630571\n"
          ]
        }
      ],
      "source": [
        "user_id = 77\n",
        "print( f'Some Movies seen by the User {user_id}:')\n",
        "pprint(list(rf_dataset[rf_dataset['userId'] == user_id]['title'])[:10])\n",
        "similar_user_list, distance_list = similar_users(user_id,10)"
      ]
    },
    {
      "cell_type": "markdown",
      "metadata": {
        "id": "9w-esOHoyXBI"
      },
      "source": [
        "###Now from here there are two ways to proceed further in our recommendation journey\n",
        "###i)Take the average of the existing rating given by the similar users and pick the top 10 or required number of movies to recommend to the input user.\n",
        "\n",
        "###ii)Define weights to ratings by each similar user based on their distance from the input user.\n",
        "\n",
        "###The second method seems like a better option from the first as it reduces the chances of recommending movies liked by the users who are relatively far away from the user(based on the knn distance)"
      ]
    },
    {
      "cell_type": "code",
      "execution_count": 24,
      "metadata": {
        "id": "YPaUINcWqUhD"
      },
      "outputs": [
        {
          "data": {
            "text/plain": [
              "array([0.08740346, 0.09085459, 0.09404938, 0.09866723, 0.10192402,\n",
              "       0.10283531, 0.10515286, 0.10564801, 0.10643755, 0.1070276 ])"
            ]
          },
          "execution_count": 24,
          "metadata": {},
          "output_type": "execute_result"
        }
      ],
      "source": [
        "#assiging weights to each of the similar user\n",
        "weightage_list=distance_list/np.sum(distance_list)\n",
        "weightage_list"
      ]
    },
    {
      "cell_type": "code",
      "execution_count": 25,
      "metadata": {
        "id": "4rp_W9j3z4Fb"
      },
      "outputs": [
        {
          "data": {
            "text/plain": [
              "array([[0. , 0. , 0. , ..., 0. , 0. , 0. ],\n",
              "       [5. , 0. , 0. , ..., 0. , 0. , 0. ],\n",
              "       [0. , 0. , 0. , ..., 0. , 0. , 0. ],\n",
              "       ...,\n",
              "       [5. , 0. , 0. , ..., 0. , 0. , 0. ],\n",
              "       [4.5, 0. , 0. , ..., 0. , 0. , 0. ],\n",
              "       [4. , 4. , 0. , ..., 0. , 0. , 0. ]])"
            ]
          },
          "execution_count": 25,
          "metadata": {},
          "output_type": "execute_result"
        }
      ],
      "source": [
        "#Getting the ratings of the movies rated by these similar users\n",
        "sim_users_ratings=df_movie.values[similar_user_list]\n",
        "sim_users_ratings"
      ]
    },
    {
      "cell_type": "code",
      "execution_count": 26,
      "metadata": {
        "id": "sPiN3_Od1iLF"
      },
      "outputs": [
        {
          "data": {
            "text/plain": [
              "Int64Index([     1,      2,      3,      4,      5,      6,      7,      8,\n",
              "                 9,     10,\n",
              "            ...\n",
              "            193565, 193567, 193571, 193573, 193579, 193581, 193583, 193585,\n",
              "            193587, 193609],\n",
              "           dtype='int64', name='movieId', length=9724)"
            ]
          },
          "execution_count": 26,
          "metadata": {},
          "output_type": "execute_result"
        }
      ],
      "source": [
        "#viewing the names of the movies in the df_movies_columns\n",
        "movie_ids=df_movie.columns\n",
        "movie_ids"
      ]
    },
    {
      "cell_type": "code",
      "execution_count": 27,
      "metadata": {
        "id": "Y3wjIy-Z4Cgc"
      },
      "outputs": [],
      "source": [
        "movie_list=[]\n",
        "for i in range(len(movie_ids)):\n",
        "  movie_list.append(mov_t.loc[mov_t['movieId']==movie_ids[i]]['title'])"
      ]
    },
    {
      "cell_type": "code",
      "execution_count": 28,
      "metadata": {
        "id": "Noxgbdy46tgZ"
      },
      "outputs": [],
      "source": [
        "movie_list=np.array(movie_list)"
      ]
    },
    {
      "cell_type": "code",
      "execution_count": 29,
      "metadata": {
        "id": "WvRTNSg_4vSV"
      },
      "outputs": [],
      "source": [
        "movie_list=movie_list.flatten()"
      ]
    },
    {
      "cell_type": "code",
      "execution_count": 30,
      "metadata": {
        "id": "K4ufMKSX8U5m"
      },
      "outputs": [
        {
          "data": {
            "text/plain": [
              "array(['Toy Story (1995)', 'Jumanji (1995)', 'Grumpier Old Men (1995)',\n",
              "       ..., 'Flint (2017)', 'Bungo Stray Dogs: Dead Apple (2018)',\n",
              "       'Andrew Dice Clay: Dice Rules (1991)'], dtype=object)"
            ]
          },
          "execution_count": 30,
          "metadata": {},
          "output_type": "execute_result"
        }
      ],
      "source": [
        "movie_list"
      ]
    },
    {
      "cell_type": "markdown",
      "metadata": {
        "id": "xl2BGSad9r3_"
      },
      "source": [
        "####Concating the weigtage matrix with zeroes so that it gets easier to get the movies from the df_movies matrix by taking the cross product"
      ]
    },
    {
      "cell_type": "code",
      "execution_count": 31,
      "metadata": {
        "id": "X_F3MRNi8zzi"
      },
      "outputs": [
        {
          "data": {
            "text/plain": [
              "(10, 9724)"
            ]
          },
          "execution_count": 31,
          "metadata": {},
          "output_type": "execute_result"
        }
      ],
      "source": [
        "weightage_list = weightage_list[:,np.newaxis] + np.zeros(len(movie_list))\n",
        "weightage_list.shape"
      ]
    },
    {
      "cell_type": "code",
      "execution_count": 32,
      "metadata": {
        "id": "fG8kmdGg9juy"
      },
      "outputs": [
        {
          "data": {
            "text/plain": [
              "array([1.88959237, 0.4281104 , 0.        , ..., 0.        , 0.        ,\n",
              "       0.        ])"
            ]
          },
          "execution_count": 32,
          "metadata": {},
          "output_type": "execute_result"
        }
      ],
      "source": [
        "new_rating_matrix = weightage_list*sim_users_ratings\n",
        "mean_rating = new_rating_matrix.sum(axis =0)\n",
        "mean_rating"
      ]
    },
    {
      "cell_type": "code",
      "execution_count": 33,
      "metadata": {
        "id": "1d_9Q4Vb-D5k"
      },
      "outputs": [],
      "source": [
        "def recommend_movies(n):\n",
        "  n = min(len(mean_rating),n)\n",
        "  print(list(movie_list[np.argsort(mean_rating)[::-1][:n]]))"
      ]
    },
    {
      "cell_type": "code",
      "execution_count": 34,
      "metadata": {
        "id": "vB71F3AK-UYO"
      },
      "outputs": [
        {
          "name": "stdout",
          "output_type": "stream",
          "text": [
            "Movies recommended based on similar users are: \n",
            "['Shawshank Redemption, The (1994)', 'Silence of the Lambs, The (1991)', 'Forrest Gump (1994)', 'Raiders of the Lost Ark (Indiana Jones and the Raiders of the Lost Ark) (1981)', 'Casablanca (1942)', 'Toy Story (1995)', 'Godfather, The (1972)', 'Star Wars: Episode IV - A New Hope (1977)', 'Good Will Hunting (1997)', 'Monty Python and the Holy Grail (1975)']\n"
          ]
        }
      ],
      "source": [
        "print(\"Movies recommended based on similar users are: \")\n",
        "recommend_movies(10)"
      ]
    },
    {
      "cell_type": "markdown",
      "metadata": {
        "id": "eQrBcKMh_IbA"
      },
      "source": [
        "###This recommender system has some drawbacks \n",
        "###i)It can at times recommend movies which are already seen by the input user\n",
        "\n",
        "###ii)It can also recommend movies not seen by any of the similar users\n",
        "\n",
        "###We tried to built a new model based on these limitations"
      ]
    },
    {
      "cell_type": "code",
      "execution_count": 35,
      "metadata": {
        "id": "kmSEenvK-W6Q"
      },
      "outputs": [],
      "source": [
        "def filtered_movie_recommendations(n):\n",
        "  \n",
        "  first_zero_index = np.where(mean_rating == 0)[0][-1]\n",
        "  sortd_index = np.argsort(mean_rating)[::-1]\n",
        "  sortd_index = sortd_index[:list(sortd_index).index(first_zero_index)]\n",
        "  n = min(len(sortd_index),n)\n",
        "  movies_watched = list(rf_dataset[rf_dataset['userId'] == user_id]['title'])\n",
        "  filtered_movie_list = list(movie_list[sortd_index])\n",
        "  count = 0\n",
        "  final_movie_list = []\n",
        "  for i in filtered_movie_list:\n",
        "    if i not in movies_watched:\n",
        "      count+=1\n",
        "      final_movie_list.append(i)\n",
        "    if count == n:\n",
        "      break\n",
        "  if count == 0:\n",
        "    print(\"There are no movies left which are not seen by the input users and seen by similar users. May be increasing the number of similar users who are to be considered may give a chance of suggesting an unseen good movie.\")\n",
        "  else:\n",
        "    for i in final_movie_list:\n",
        "      print(i)\n",
        "    #print(final_movie_list)"
      ]
    },
    {
      "cell_type": "code",
      "execution_count": 36,
      "metadata": {
        "id": "8gwTt1ad_vTQ"
      },
      "outputs": [
        {
          "name": "stdout",
          "output_type": "stream",
          "text": [
            "Shawshank Redemption, The (1994)\n",
            "Silence of the Lambs, The (1991)\n",
            "Forrest Gump (1994)\n",
            "Casablanca (1942)\n",
            "Toy Story (1995)\n",
            "Godfather, The (1972)\n",
            "Good Will Hunting (1997)\n",
            "Monty Python and the Holy Grail (1975)\n",
            "Apollo 13 (1995)\n",
            "Die Hard: With a Vengeance (1995)\n"
          ]
        }
      ],
      "source": [
        "filtered_movie_recommendations(10)"
      ]
    },
    {
      "cell_type": "code",
      "execution_count": 40,
      "metadata": {
        "id": "n8KUF1pfArVB"
      },
      "outputs": [],
      "source": [
        "from pprint import pprint\n",
        "\n",
        "def recommender_system(user_id, n_similar_users, n_movies): #, user_to_movie_df, knn_model):\n",
        "  \n",
        "\n",
        "  # def get_similar_users(user, user_to_movie_df, knn_model, n = 5):\n",
        "  def similar_users(userId,n_users=10):\n",
        "    knn_input=np.asarray([df_movie.values[userId-1]])\n",
        "    dists,idxs=knn_model.kneighbors(knn_input,n_neighbors=n_users+1)\n",
        "    \n",
        "    print(f'Top {n_users} users who are the most similar to user {userId} are: ')\n",
        "    for i in range(1,len(dists[0])):\n",
        "      print(f'{i} User {idxs[0][i]+1} separated by distance of {dists[0][i]}')\n",
        "    return idxs.flatten()[1:]+1,dists.flatten()[1:]\n",
        "\n",
        "\n",
        "  def filtered_movie_recommendations(n):\n",
        "  \n",
        "    first_zero_index = np.where(mean_rating == 0)[0][-1]\n",
        "    sortd_index = np.argsort(mean_rating)[::-1]\n",
        "    sortd_index = sortd_index[:list(sortd_index).index(first_zero_index)]\n",
        "    n = min(len(sortd_index),n)\n",
        "    movies_watched = list(rf_dataset[rf_dataset['userId'] == user_id]['title'])\n",
        "    filtered_movie_list = list(movie_list[sortd_index])\n",
        "    count = 0\n",
        "    final_movie_list = []\n",
        "    for i in filtered_movie_list:\n",
        "      if i not in movies_watched:\n",
        "        count+=1\n",
        "        final_movie_list.append(i)\n",
        "      if count == n:\n",
        "        break\n",
        "    if count == 0:\n",
        "      print(\"There are no movies left which are not seen by the input users and seen by similar users. May be increasing the number of similar users who are to be considered may give a chance of suggesting an unseen good movie.\")\n",
        "    else:\n",
        "      for i in final_movie_list:\n",
        "        print(i)\n",
        "\n",
        "  similar_user_list, distance_list = similar_users(user_id,n_similar_users)\n",
        "  weightage_list = distance_list/np.sum(distance_list)\n",
        "  sim_users_ratings = df_movie.values[similar_user_list]\n",
        "  movies_list = df_movie.columns\n",
        "  movie_list=[]\n",
        "  for i in range(len(movie_ids)):\n",
        "    movie_list.append(mov_t.loc[mov_t['movieId']==movie_ids[i]]['title'])\n",
        "  movie_list=np.array(movie_list)\n",
        "  movie_list=movie_list.flatten()\n",
        "  weightage_list = weightage_list[:,np.newaxis] + np.zeros(len(movies_list))\n",
        "  new_rating_matrix = weightage_list*sim_users_ratings\n",
        "  mean_rating_list = new_rating_matrix.sum(axis =0)\n",
        "  print(\"\")\n",
        "  print(\"Movies recommended based on similar users are: \")\n",
        "  print(\"\")\n",
        "  filtered_movie_recommendations(n_movies)"
      ]
    },
    {
      "cell_type": "code",
      "execution_count": 41,
      "metadata": {
        "id": "DihoPgvUD1gm"
      },
      "outputs": [
        {
          "name": "stdout",
          "output_type": "stream",
          "text": [
            "Enter user id\n",
            "number of similar users to be considered\n",
            "Enter number of movies to be recommended:\n",
            "Top 5 users who are the most similar to user 69 are: \n",
            "1 User 335 separated by distance of 0.6391691177102234\n",
            "2 User 400 separated by distance of 0.6822339717811792\n",
            "3 User 197 separated by distance of 0.7092894465125141\n",
            "4 User 72 separated by distance of 0.7147011993795044\n",
            "5 User 399 separated by distance of 0.7307369052552346\n",
            "\n",
            "Movies recommended based on similar users are: \n",
            "\n",
            "Raiders of the Lost Ark (Indiana Jones and the Raiders of the Lost Ark) (1981)\n",
            "Casablanca (1942)\n"
          ]
        }
      ],
      "source": [
        "print(\"Enter user id\")\n",
        "user_id= int(input())\n",
        "print(\"number of similar users to be considered\")\n",
        "sim_users = int(input())\n",
        "print(\"Enter number of movies to be recommended:\")\n",
        "n_movies = int(input())\n",
        "recommender_system(user_id,sim_users,n_movies)\n",
        "# recommender_system(300, 15,15)"
      ]
    },
    {
      "cell_type": "markdown",
      "metadata": {},
      "source": [
        "## Storing the Model to be used by the App Program"
      ]
    },
    {
      "cell_type": "code",
      "execution_count": 42,
      "metadata": {},
      "outputs": [],
      "source": [
        "import pickle"
      ]
    },
    {
      "cell_type": "code",
      "execution_count": 55,
      "metadata": {},
      "outputs": [],
      "source": [
        "data={\"model\":knn_model,\"movie_list\":movie_list,\"weightage_list\":weightage_list,\n",
        "      \"mean_rating\":mean_rating,\"df_movie\":df_movie,\"movie_ids\":movie_ids,'mov_t':mov_t,\n",
        "      \"rf_dataset\":rf_dataset}\n",
        "      \n",
        "with open('saved_model.pkl', 'wb') as file:\n",
        "    pickle.dump(data,file)"
      ]
    },
    {
      "cell_type": "markdown",
      "metadata": {},
      "source": [
        "## Testing Stored Model"
      ]
    },
    {
      "cell_type": "code",
      "execution_count": 44,
      "metadata": {},
      "outputs": [],
      "source": [
        "with open('saved_model.pkl', 'rb') as file:\n",
        "    data=pickle.load(file)"
      ]
    },
    {
      "cell_type": "code",
      "execution_count": 46,
      "metadata": {},
      "outputs": [],
      "source": [
        "model=data['model']\n",
        "movie_list=data['movie_list']\n",
        "weightage_list=data['weightage_list']\n",
        "mean_rating=data['mean_rating']"
      ]
    },
    {
      "cell_type": "code",
      "execution_count": 47,
      "metadata": {},
      "outputs": [
        {
          "name": "stdout",
          "output_type": "stream",
          "text": [
            "Enter user id\n",
            "number of similar users to be considered\n",
            "Enter number of movies to be recommended:\n",
            "Top 3 users who are the most similar to user 5 are: \n",
            "1 User 470 separated by distance of 0.47932920424735703\n",
            "2 User 229 separated by distance of 0.48266710413766245\n",
            "3 User 565 separated by distance of 0.4886746437839189\n",
            "\n",
            "Movies recommended based on similar users are: \n",
            "\n",
            "Silence of the Lambs, The (1991)\n",
            "Forrest Gump (1994)\n",
            "Raiders of the Lost Ark (Indiana Jones and the Raiders of the Lost Ark) (1981)\n"
          ]
        }
      ],
      "source": [
        "print(\"Enter user id\")\n",
        "user_id= int(input())\n",
        "print(\"number of similar users to be considered\")\n",
        "sim_users = int(input())\n",
        "print(\"Enter number of movies to be recommended:\")\n",
        "n_movies = int(input())\n",
        "recommender_system(user_id,sim_users,n_movies)\n",
        "# recommender_system(300, 15,15)"
      ]
    }
  ],
  "metadata": {
    "colab": {
      "collapsed_sections": [],
      "name": "Group 20 PRML Project KNN.ipynb",
      "provenance": []
    },
    "kernelspec": {
      "display_name": "Python 3",
      "name": "python3"
    },
    "language_info": {
      "codemirror_mode": {
        "name": "ipython",
        "version": 3
      },
      "file_extension": ".py",
      "mimetype": "text/x-python",
      "name": "python",
      "nbconvert_exporter": "python",
      "pygments_lexer": "ipython3",
      "version": "3.10.4"
    }
  },
  "nbformat": 4,
  "nbformat_minor": 0
}
